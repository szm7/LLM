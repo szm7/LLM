{
 "cells": [
  {
   "cell_type": "code",
   "execution_count": 103,
   "metadata": {},
   "outputs": [],
   "source": [
    "\n",
    "from langchain_core.prompts import ChatPromptTemplate \n",
    "from langchain_core.output_parsers import StrOutputParser\n",
    "from langchain_community.llms import Ollama\n",
    "from langchain_groq import ChatGroq\n",
    "import httpx"
   ]
  },
  {
   "cell_type": "code",
   "execution_count": 104,
   "metadata": {},
   "outputs": [],
   "source": [
    "APIKEY = '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'"
   ]
  },
  {
   "cell_type": "code",
   "execution_count": 105,
   "metadata": {},
   "outputs": [],
   "source": [
    "prompt = ChatPromptTemplate.from_messages(\n",
    "    [\n",
    "        (\"system\", \"You are a creative story assistant. Generate engaging and imaginative stories based on the prompts provided by the user.\"),\n",
    "        (\"user\", \"Question:{question}\")\n",
    "    ]\n",
    ")"
   ]
  },
  {
   "cell_type": "code",
   "execution_count": 106,
   "metadata": {},
   "outputs": [],
   "source": [
    "groqApi = ChatGroq(model=\"gemma-7b-It\", temperature=0,api_key=APIKEY)\n",
    "outputparser = StrOutputParser()\n",
    "chainSec = prompt | groqApi | outputparser"
   ]
  },
  {
   "cell_type": "code",
   "execution_count": 107,
   "metadata": {},
   "outputs": [],
   "source": [
    "def chat_with_assistant(question):\n",
    "    try:\n",
    "        response = chainSec.invoke({'question': question})\n",
    "        return response\n",
    "    except httpx.ConnectError as e:\n",
    "        return f\"Connection error: {e}\"\n",
    "    except Exception as e:\n",
    "        return f\"An error occurred: {e}\""
   ]
  },
  {
   "cell_type": "code",
   "execution_count": 108,
   "metadata": {},
   "outputs": [
    {
     "name": "stdout",
     "output_type": "stream",
     "text": [
      "## Real Madrid: A Symphony of Dreams\n",
      "\n",
      "The sun dipped low, casting long shadows over the Santiago Bernabéu. Inside, a different kind of symphony was about to begin. The hushed anticipation hung thick in the air, a melody of hope and possibility. This wasn't just a football team, this was a family.\n",
      "\n",
      "Real Madrid, a club woven from dreams. Founded on the ashes of defeat, fueled by the insatiable hunger for glory. Legends like Di Stéfano, Zidane, Ronaldo – their names echoing through the stadium's history.\n",
      "\n",
      "Tonight, a new chapter was about to unfold. A young midfielder, barely 18, stood on the precipice of greatness. His name was Lucas, and his eyes held a fire that burned brighter than the stadium lights. He had risen through the youth academy, honed by the watchful eyes of experienced mentors.\n",
      "\n",
      "The whistle blew, and the symphony began. The ball flowed like poetry, a ballet of skill and strategy. Lucas moved like a phantom, weaving through defenses, his passes precise and insightful. He orchestrated the attack, creating chances out of thin air.\n",
      "\n",
      "His talent was undeniable, a dazzling blend of vision and technique. He was the conductor of this musical masterpiece, leading Real Madrid to a resounding victory. The stadium erupted, a deafening chorus of cheers.\n",
      "\n",
      "But Lucas knew his journey was just beginning. He had giants to slay, mountains to climb. He had to prove himself worthy of the legacy he stood upon. He had to write his own story, one filled with grit, determination, and unwavering passion.\n",
      "\n",
      "As he stood on the field, arms raised in triumph, a smile flickered across his face. He was living his dream, a Real Madrid player, a son of the Santiago Bernabéu. The symphony of his potential had just begun.\n",
      "\n",
      "**The End**\n"
     ]
    }
   ],
   "source": [
    "inputText = input(\"Talk with the assistant: \")\n",
    "\n",
    "if inputText:\n",
    "    print(chat_with_assistant(inputText))"
   ]
  },
  {
   "cell_type": "code",
   "execution_count": null,
   "metadata": {},
   "outputs": [],
   "source": []
  }
 ],
 "metadata": {
  "kernelspec": {
   "display_name": "Python 3",
   "language": "python",
   "name": "python3"
  },
  "language_info": {
   "codemirror_mode": {
    "name": "ipython",
    "version": 3
   },
   "file_extension": ".py",
   "mimetype": "text/x-python",
   "name": "python",
   "nbconvert_exporter": "python",
   "pygments_lexer": "ipython3",
   "version": "3.11.5"
  }
 },
 "nbformat": 4,
 "nbformat_minor": 2
}
